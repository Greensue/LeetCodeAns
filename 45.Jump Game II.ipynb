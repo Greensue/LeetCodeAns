{
 "cells": [
  {
   "cell_type": "markdown",
   "metadata": {},
   "source": [
    "# Jump Game II"
   ]
  },
  {
   "cell_type": "markdown",
   "metadata": {},
   "source": [
    "## Description"
   ]
  },
  {
   "cell_type": "markdown",
   "metadata": {},
   "source": [
    "### Given an array of non-negative integers, you are initially positioned at the first index of the array.Each element in the array represents your maximum jump length at that position.Your goal is to reach the last index in the minimum number of jumps."
   ]
  },
  {
   "cell_type": "markdown",
   "metadata": {},
   "source": [
    "## Example:"
   ]
  },
  {
   "cell_type": "markdown",
   "metadata": {},
   "source": [
    "### Input: [2,3,1,1,4]\n",
    "### Output: 2\n",
    "### Explanation: The minimum number of jumps to reach the last index is 2. Jump 1 step from index 0 to 1, then 3 steps to the last index."
   ]
  },
  {
   "cell_type": "markdown",
   "metadata": {},
   "source": [
    "## 思路：1.动态规划，dp[i]表示从0到i 最小的步数，注意到dp[i]到dp[i + nums[i]]中间的dp[j]等于\n",
    "## min(dp[i] + 1,dp[j]), 从i =0 开始迭代到i=len(nums)-1,dp[-1]即为所求结果。\n",
    "## 2.考虑一步能走多远，dp[i]为第i步能左多远"
   ]
  },
  {
   "cell_type": "code",
   "execution_count": 27,
   "metadata": {},
   "outputs": [],
   "source": [
    "class Solution:\n",
    "    def jump(self, nums):\n",
    "        \"\"\"\n",
    "        :type nums: List[int]\n",
    "        :rtype: int\n",
    "        \"\"\"\n",
    "        #常规动态规划90/92\n",
    "        # dp = [0 for i in range(len(nums))]\n",
    "        # for i in range(1,len(nums)):\n",
    "        #     minstep = len(nums)\n",
    "        #     for j in range(i):\n",
    "        #         if j+nums[j]>=i:\n",
    "        #             minstep = min(minstep,dp[j]+1)\n",
    "        #     dp[i]=minstep\n",
    "        # return dp[len(nums)-1]\n",
    "        #分而治之，先从左到右找到最index使得nums[index]+i>=len(nums),count ++\n",
    "        #然后截取nums[:index+1]递推 90/92\n",
    "#         if nums == [] or len(nums)==1:\n",
    "#             return 0\n",
    "        \n",
    "#         for i in range(len(nums)-1):\n",
    "#             if nums[i]+i>=len(nums)-1:\n",
    "#                 return self.jump(nums[:i+1]) + 1\n",
    "#                 break\n",
    "        #按思路1所说方法 91/92\n",
    "#         dp = []\n",
    "#         for i in range(len(nums)):\n",
    "#             dp.append(i)\n",
    "#         for i in range(len(nums)):\n",
    "#             for j in range(1,min(nums[i]+1,len(nums) - i)):\n",
    "#                 dp[i + j] = min(dp[i+j],dp[i]+1)\n",
    "#                 print(i,j,dp[i+j])\n",
    "#         return dp[len(nums)-1]\n",
    "        count = 0\n",
    "        maxRange = 0\n",
    "        temp = 0\n",
    "        if len(nums)==1:\n",
    "            return 0\n",
    "        for i in range(len(nums)-1):\n",
    "            maxRange = max(maxRange,nums[i]+i)\n",
    "            if i == temp:\n",
    "                count += 1\n",
    "                temp = maxRange \n",
    "            \n",
    "            if temp >= len(nums) - 1:\n",
    "                return count"
   ]
  },
  {
   "cell_type": "code",
   "execution_count": 28,
   "metadata": {},
   "outputs": [],
   "source": [
    "a = Solution()"
   ]
  },
  {
   "cell_type": "code",
   "execution_count": 29,
   "metadata": {},
   "outputs": [
    {
     "data": {
      "text/plain": [
       "2"
      ]
     },
     "execution_count": 29,
     "metadata": {},
     "output_type": "execute_result"
    }
   ],
   "source": [
    "b = [2,3,1,1,4]\n",
    "a.jump(b)"
   ]
  },
  {
   "cell_type": "code",
   "execution_count": null,
   "metadata": {},
   "outputs": [],
   "source": []
  }
 ],
 "metadata": {
  "kernelspec": {
   "display_name": "Python 3",
   "language": "python",
   "name": "python3"
  },
  "language_info": {
   "codemirror_mode": {
    "name": "ipython",
    "version": 3
   },
   "file_extension": ".py",
   "mimetype": "text/x-python",
   "name": "python",
   "nbconvert_exporter": "python",
   "pygments_lexer": "ipython3",
   "version": "3.6.4"
  }
 },
 "nbformat": 4,
 "nbformat_minor": 2
}
