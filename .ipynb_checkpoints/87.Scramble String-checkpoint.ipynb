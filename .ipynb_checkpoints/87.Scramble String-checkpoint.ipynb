{
 "cells": [
  {
   "cell_type": "markdown",
   "metadata": {},
   "source": [
    "# Scramble String \n"
   ]
  },
  {
   "cell_type": "markdown",
   "metadata": {},
   "source": [
    "## Description"
   ]
  },
  {
   "cell_type": "markdown",
   "metadata": {},
   "source": [
    "### Given a string s1, we may represent it as a binary tree by partitioning it to two non-empty substrings recursively.\n",
    "\n",
    "### Below is one possible representation of s1 = \"great\":"
   ]
  },
  {
   "cell_type": "markdown",
   "metadata": {},
   "source": [
    "    great\n",
    "   /    \\\n",
    "  gr    eat\n",
    " / \\    /  \\\n",
    "g   r  e   at\n",
    "           / \\\n",
    "          a   t"
   ]
  },
  {
   "cell_type": "markdown",
   "metadata": {},
   "source": [
    "### To scramble the string, we may choose any non-leaf node and swap its two children.\n",
    "\n",
    "### For example, if we choose the node \"gr\" and swap its two children, it produces a scrambled string \"rgeat\"."
   ]
  },
  {
   "cell_type": "markdown",
   "metadata": {},
   "source": [
    "    rgeat\n",
    "   /    \\\n",
    "  rg    eat\n",
    " / \\    /  \\\n",
    "r   g  e   at\n",
    "           / \\\n",
    "          a   t"
   ]
  },
  {
   "cell_type": "markdown",
   "metadata": {},
   "source": [
    "\n",
    "### We say that \"rgeat\" is a scrambled string of \"great\".\n",
    "\n",
    "### Similarly, if we continue to swap the children of nodes \"eat\" and \"at\", it produces a scrambled string \"rgtae\"."
   ]
  },
  {
   "cell_type": "markdown",
   "metadata": {},
   "source": [
    "    rgtae\n",
    "   /    \\\n",
    "  rg    tae\n",
    " / \\    /  \\\n",
    "r   g  ta  e\n",
    "       / \\\n",
    "      t   a"
   ]
  },
  {
   "cell_type": "markdown",
   "metadata": {},
   "source": [
    "### We say that \"rgtae\" is a scrambled string of \"great\".\n",
    "\n",
    "### Given two strings s1 and s2 of the same length, determine if s2 is a scrambled string of s1.\n",
    "\n"
   ]
  },
  {
   "cell_type": "markdown",
   "metadata": {},
   "source": [
    "Example 1:\n",
    "\n",
    "Input: s1 = \"great\", s2 = \"rgeat\"\n",
    "Output: true\n",
    "\n",
    "Example 2:\n",
    "\n",
    "Input: s1 = \"abcde\", s2 = \"caebd\"\n",
    "Output: false"
   ]
  },
  {
   "cell_type": "markdown",
   "metadata": {},
   "source": [
    "## 思路：运用递归，考虑到根节点左右俩部分scramble之后分别isScramble"
   ]
  },
  {
   "cell_type": "code",
   "execution_count": 2,
   "metadata": {},
   "outputs": [],
   "source": [
    "class Solution:\n",
    "    def isScramble(self, s1, s2):\n",
    "        \"\"\"\n",
    "        :type s1: str\n",
    "        :type s2: str\n",
    "        :rtype: bool\n",
    "        \"\"\"\n",
    "        if s1==s2:\n",
    "            return True\n",
    "        count = [0]*26\n",
    "        \n",
    "        for i in range(len(s1)):\n",
    "            count[ord(s1[i])-ord('a')]+=1\n",
    "            count[ord(s2[i])-ord('a')]-=1\n",
    "        for i in range(len(count)):\n",
    "            if count[i]!= 0:\n",
    "                print(\"False\")\n",
    "                return False\n",
    "            \n",
    "        \n",
    "        for i in range(len(s1)-1):\n",
    "            if(self.isScramble(s1[:i+1],s2[:i+1]) and self.isScramble(s1[i+1:],s2[i+1:]) ):\n",
    "                return True\n",
    "            if(self.isScramble(s1[:i+1],s2[-(i+1):]) and self.isScramble(s1[i+1:],s2[:len(s2)-i-1]) ):\n",
    "                return True\n",
    "        return False"
   ]
  },
  {
   "cell_type": "code",
   "execution_count": null,
   "metadata": {},
   "outputs": [],
   "source": []
  }
 ],
 "metadata": {
  "kernelspec": {
   "display_name": "Python 3",
   "language": "python",
   "name": "python3"
  },
  "language_info": {
   "codemirror_mode": {
    "name": "ipython",
    "version": 3
   },
   "file_extension": ".py",
   "mimetype": "text/x-python",
   "name": "python",
   "nbconvert_exporter": "python",
   "pygments_lexer": "ipython3",
   "version": "3.6.4"
  }
 },
 "nbformat": 4,
 "nbformat_minor": 2
}
